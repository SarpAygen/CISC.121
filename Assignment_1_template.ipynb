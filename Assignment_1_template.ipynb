{
 "cells": [
  {
   "cell_type": "markdown",
   "id": "a6076fa5",
   "metadata": {},
   "source": [

   ]
  },
  {

   
  },
  {
   "cell_type": "markdown",
   "id": "e240d72d",
   "metadata": {},
   "source": [
    "## Quick Checklist (before you submit)\n",
    "\n",
    "- [ ] Every problem (1–5) includes **all 5 sections** below.\n",
    "- [ ] **Final Correct Code** runs without errors; outputs are visible.\n",
    "- [ ] Added a short **AI Use Note** under each Final Correct Code, if applicable.\n",
    "- [ ] Notebook saved; **Restart & Run All** completed.\n",
    "- [ ] **Repo link** above points to the exact notebook.\n",
    "- [ ] Pushed latest changes to GitHub.\n",
    "\n",
    "---\n"
   ]
  },
  {
   "cell_type": "markdown",
   "id": "9d29e2e2",
   "metadata": {},
   "source": [
    "# Problem 1\n",
    "\n",
    "## 1) Understanding & Breakdown\n",
    "- Restate the problem in your own words.\n",
    "- List inputs, outputs, constraints, and edge cases.\n",
    "- Outline your approach (step-by-step or pseudo-code).\n",
    "\n",
    "---\n"
   ]
  },
  {
   "cell_type": "markdown",
   "id": "c3a70200",
   "metadata": {},
   "source": [
    "## 2) Peer Review & Draft Code\n",
    "Describe what examples, references, or peer review you looked at (if any).  \n",
    "Paste or write your **draft** code idea below and note concerns/todos.\n"
   ]
  },
  {
   "cell_type": "code",
   "execution_count": null,
   "id": "5d984197",
   "metadata": {},
   "outputs": [],
   "source": [
    "# Draft code (sketch / exploratory). It is OK if this doesn't fully work yet.\n",
    "# Keep this separate from your final solution below.\n",
    "# TODO: replace with your draft implementation.\n",
    "pass\n"
   ]
  },
  {
   "cell_type": "markdown",
   "id": "d792b9bf",
   "metadata": {},
   "source": [
    "---\n",
    "\n",
    "## 3) Final Correct Code **+ AI Use Note**\n",
    "Place your **final, working** solution in the code cell below.  \n",
    "Then add a brief **AI Use Note** right under it (if you used AI). Example:\n",
    "\n",
    "> **AI Use Note:** I used ChatGPT to brainstorm edge cases and to explain list slicing. I wrote and validated the final code and tests myself.\n"
   ]
  },
  {
   "cell_type": "code",
   "execution_count": null,
   "id": "161e4611",
   "metadata": {},
   "outputs": [],
   "source": [
    "# FINAL SOLUTION for this problem\n",
    "# Replace this with your clean, commented, working code.\n",
    "def solution():\n",
    "    # TODO: implement\n",
    "    pass\n",
    "\n",
    "# Optional quick self-test (adjust or remove)\n",
    "if __name__ == \"__main__\":\n",
    "    # print(solution(...))\n",
    "    pass\n"
   ]
  },
  {
   "cell_type": "markdown",
   "id": "6433dde8",
   "metadata": {},
   "source": [
    "_Write your short AI Use Note here (or state “No AI used”)._\n",
    "\n",
    "---\n"
   ]
  },
  {
   "cell_type": "markdown",
   "id": "afca7a8e",
   "metadata": {},
   "source": [
    "## 4) Review & Fixes\n",
    "- What tests did you run (normal & edge cases)?\n",
    "- What bugs did you find and how did you fix them?\n",
    "- Any complexity notes (time/space)?\n",
    "\n",
    "---\n"
   ]
  },
  {
   "cell_type": "markdown",
   "id": "1e81edaa",
   "metadata": {},
   "source": [
    "## 5) Reflection\n",
    "- What was tricky here?\n",
    "- What did you learn or want to remember for next time?\n",
    "- If you had more time, how would you improve your solution?\n",
    "\n",
    "---\n"
   ]
  },
  {
   "cell_type": "markdown",
   "id": "2613e80d",
   "metadata": {},
   "source": [
    "# Problem 2\n",
    "\n",
    "## 1) Understanding & Breakdown\n",
    "- Restate the problem in your own words.\n",
    "- List inputs, outputs, constraints, and edge cases.\n",
    "- Outline your approach (step-by-step or pseudo-code).\n",
    "\n",
    "---\n"
   ]
  },
  {
   "cell_type": "markdown",
   "id": "7f8341d9",
   "metadata": {},
   "source": [
    "## 2) Peer Review & Draft Code\n",
    "Describe what examples, references, or peer review you looked at (if any).  \n",
    "Paste or write your **draft** code idea below and note concerns/todos.\n"
   ]
  },
  {
   "cell_type": "code",
   "execution_count": null,
   "id": "cb0c0eb6",
   "metadata": {},
   "outputs": [],
   "source": [
    "# Draft code (sketch / exploratory). It is OK if this doesn't fully work yet.\n",
    "# Keep this separate from your final solution below.\n",
    "# TODO: replace with your draft implementation.\n",
    "pass\n"
   ]
  },
  {
   "cell_type": "markdown",
   "id": "e9689688",
   "metadata": {},
   "source": [
    "---\n",
    "\n",
    "## 3) Final Correct Code **+ AI Use Note**\n",
    "Place your **final, working** solution in the code cell below.  \n",
    "Then add a brief **AI Use Note** right under it (if you used AI). Example:\n",
    "\n",
    "> **AI Use Note:** I used ChatGPT to brainstorm edge cases and to explain list slicing. I wrote and validated the final code and tests myself.\n"
   ]
  },
  {
   "cell_type": "code",
   "execution_count": null,
   "id": "bf35117f",
   "metadata": {},
   "outputs": [],
   "source": [
    "# FINAL SOLUTION for this problem\n",
    "# Replace this with your clean, commented, working code.\n",
    "def solution():\n",
    "    # TODO: implement\n",
    "    pass\n",
    "\n",
    "# Optional quick self-test (adjust or remove)\n",
    "if __name__ == \"__main__\":\n",
    "    # print(solution(...))\n",
    "    pass\n"
   ]
  },
  {
   "cell_type": "markdown",
   "id": "e45e58ed",
   "metadata": {},
   "source": [
    "_Write your short AI Use Note here (or state “No AI used”)._\n",
    "\n",
    "---\n"
   ]
  },
  {
   "cell_type": "markdown",
   "id": "46eea763",
   "metadata": {},
   "source": [
    "## 4) Review & Fixes\n",
    "- What tests did you run (normal & edge cases)?\n",
    "- What bugs did you find and how did you fix them?\n",
    "- Any complexity notes (time/space)?\n",
    "\n",
    "---\n"
   ]
  },
  {
   "cell_type": "markdown",
   "id": "9acd1e20",
   "metadata": {},
   "source": [
    "## 5) Reflection\n",
    "- What was tricky here?\n",
    "- What did you learn or want to remember for next time?\n",
    "- If you had more time, how would you improve your solution?\n",
    "\n",
    "---\n"
   ]
  },
  {
   "cell_type": "markdown",
   "id": "18a1207c",
   "metadata": {},
   "source": [
    "# Problem 3\n",
    "\n",
    "## 1) Understanding & Breakdown\n",
    "- Restate the problem in your own words.\n",
    "- List inputs, outputs, constraints, and edge cases.\n",
    "- Outline your approach (step-by-step or pseudo-code).\n",
    "\n",
    "---\n"
   ]
  },
  {
   "cell_type": "markdown",
   "id": "24e0c584",
   "metadata": {},
   "source": [
    "## 2) Peer Review & Draft Code\n",
    "Describe what examples, references, or peer review you looked at (if any).  \n",
    "Paste or write your **draft** code idea below and note concerns/todos.\n"
   ]
  },
  {
   "cell_type": "code",
   "execution_count": null,
   "id": "8ddbf9fc",
   "metadata": {},
   "outputs": [],
   "source": [
    "# Draft code (sketch / exploratory). It is OK if this doesn't fully work yet.\n",
    "# Keep this separate from your final solution below.\n",
    "# TODO: replace with your draft implementation.\n",
    "pass\n"
   ]
  },
  {
   "cell_type": "markdown",
   "id": "984a5804",
   "metadata": {},
   "source": [
    "---\n",
    "\n",
    "## 3) Final Correct Code **+ AI Use Note**\n",
    "Place your **final, working** solution in the code cell below.  \n",
    "Then add a brief **AI Use Note** right under it (if you used AI). Example:\n",
    "\n",
    "> **AI Use Note:** I used ChatGPT to brainstorm edge cases and to explain list slicing. I wrote and validated the final code and tests myself.\n"
   ]
  },
  {
   "cell_type": "code",
   "execution_count": null,
   "id": "44f3ee68",
   "metadata": {},
   "outputs": [],
   "source": [
    "# FINAL SOLUTION for this problem\n",
    "# Replace this with your clean, commented, working code.\n",
    "def solution():\n",
    "    # TODO: implement\n",
    "    pass\n",
    "\n",
    "# Optional quick self-test (adjust or remove)\n",
    "if __name__ == \"__main__\":\n",
    "    # print(solution(...))\n",
    "    pass\n"
   ]
  },
  {
   "cell_type": "markdown",
   "id": "1b969c01",
   "metadata": {},
   "source": [
    "_Write your short AI Use Note here (or state “No AI used”)._\n",
    "\n",
    "---\n"
   ]
  },
  {
   "cell_type": "markdown",
   "id": "34e48716",
   "metadata": {},
   "source": [
    "## 4) Review & Fixes\n",
    "- What tests did you run (normal & edge cases)?\n",
    "- What bugs did you find and how did you fix them?\n",
    "- Any complexity notes (time/space)?\n",
    "\n",
    "---\n"
   ]
  },
  {
   "cell_type": "markdown",
   "id": "160acad2",
   "metadata": {},
   "source": [
    "## 5) Reflection\n",
    "- What was tricky here?\n",
    "- What did you learn or want to remember for next time?\n",
    "- If you had more time, how would you improve your solution?\n",
    "\n",
    "---\n"
   ]
  },
  {
   "cell_type": "markdown",
   "id": "2e4467c6",
   "metadata": {},
   "source": [
    "# Problem 4\n",
    "\n",
    "## 1) Understanding & Breakdown\n",
    "- Restate the problem in your own words.\n",
    "- List inputs, outputs, constraints, and edge cases.\n",
    "- Outline your approach (step-by-step or pseudo-code).\n",
    "\n",
    "---\n"
   ]
  },
  {
   "cell_type": "markdown",
   "id": "5ab44067",
   "metadata": {},
   "source": [
    "## 2) Peer Review & Draft Code\n",
    "Describe what examples, references, or peer review you looked at (if any).  \n",
    "Paste or write your **draft** code idea below and note concerns/todos.\n"
   ]
  },
  {
   "cell_type": "code",
   "execution_count": null,
   "id": "629287c0",
   "metadata": {},
   "outputs": [],
   "source": [
    "# Draft code (sketch / exploratory). It is OK if this doesn't fully work yet.\n",
    "# Keep this separate from your final solution below.\n",
    "# TODO: replace with your draft implementation.\n",
    "pass\n"
   ]
  },
  {
   "cell_type": "markdown",
   "id": "5a1c8be2",
   "metadata": {},
   "source": [
    "---\n",
    "\n",
    "## 3) Final Correct Code **+ AI Use Note**\n",
    "Place your **final, working** solution in the code cell below.  \n",
    "Then add a brief **AI Use Note** right under it (if you used AI). Example:\n",
    "\n",
    "> **AI Use Note:** I used ChatGPT to brainstorm edge cases and to explain list slicing. I wrote and validated the final code and tests myself.\n"
   ]
  },
  {
   "cell_type": "code",
   "execution_count": null,
   "id": "12b7fc4f",
   "metadata": {},
   "outputs": [],
   "source": [
    "# FINAL SOLUTION for this problem\n",
    "# Replace this with your clean, commented, working code.\n",
    "def solution():\n",
    "    # TODO: implement\n",
    "    pass\n",
    "\n",
    "# Optional quick self-test (adjust or remove)\n",
    "if __name__ == \"__main__\":\n",
    "    # print(solution(...))\n",
    "    pass\n"
   ]
  },
  {
   "cell_type": "markdown",
   "id": "bc598859",
   "metadata": {},
   "source": [
    "_Write your short AI Use Note here (or state “No AI used”)._\n",
    "\n",
    "---\n"
   ]
  },
  {
   "cell_type": "markdown",
   "id": "a5d66fe1",
   "metadata": {},
   "source": [
    "## 4) Review & Fixes\n",
    "- What tests did you run (normal & edge cases)?\n",
    "- What bugs did you find and how did you fix them?\n",
    "- Any complexity notes (time/space)?\n",
    "\n",
    "---\n"
   ]
  },
  {
   "cell_type": "markdown",
   "id": "1157076f",
   "metadata": {},
   "source": [
    "## 5) Reflection\n",
    "- What was tricky here?\n",
    "- What did you learn or want to remember for next time?\n",
    "- If you had more time, how would you improve your solution?\n",
    "\n",
    "---\n"
   ]
  },
  {
   "cell_type": "markdown",
   "id": "8ad082d0",
   "metadata": {},
   "source": [
    "# Problem 5\n",
    "\n",
    "## 1) Understanding & Breakdown\n",
    "- Restate the problem in your own words.\n",
    "- List inputs, outputs, constraints, and edge cases.\n",
    "- Outline your approach (step-by-step or pseudo-code).\n",
    "\n",
    "---\n"
   ]
  },
  {
   "cell_type": "markdown",
   "id": "7ce0ab65",
   "metadata": {},
   "source": [
    "## 2) Peer Review & Draft Code\n",
    "Describe what examples, references, or peer review you looked at (if any).  \n",
    "Paste or write your **draft** code idea below and note concerns/todos.\n"
   ]
  },
  {
   "cell_type": "code",
   "execution_count": null,
   "id": "b42603dd",
   "metadata": {},
   "outputs": [],
   "source": [
    "# Draft code (sketch / exploratory). It is OK if this doesn't fully work yet.\n",
    "# Keep this separate from your final solution below.\n",
    "# TODO: replace with your draft implementation.\n",
    "pass\n"
   ]
  },
  {
   "cell_type": "markdown",
   "id": "d8cd77a2",
   "metadata": {},
   "source": [
    "---\n",
    "\n",
    "## 3) Final Correct Code **+ AI Use Note**\n",
    "Place your **final, working** solution in the code cell below.  \n",
    "Then add a brief **AI Use Note** right under it (if you used AI). Example:\n",
    "\n",
    "> **AI Use Note:** I used ChatGPT to brainstorm edge cases and to explain list slicing. I wrote and validated the final code and tests myself.\n"
   ]
  },
  {
   "cell_type": "code",
   "execution_count": null,
   "id": "6a8170cc",
   "metadata": {},
   "outputs": [],
   "source": [
    "# FINAL SOLUTION for this problem\n",
    "# Replace this with your clean, commented, working code.\n",
    "def solution():\n",
    "    # TODO: implement\n",
    "    pass\n",
    "\n",
    "# Optional quick self-test (adjust or remove)\n",
    "if __name__ == \"__main__\":\n",
    "    # print(solution(...))\n",
    "    pass\n"
   ]
  },
  {
   "cell_type": "markdown",
   "id": "1e8cfc5f",
   "metadata": {},
   "source": [
    "_Write your short AI Use Note here (or state “No AI used”)._\n",
    "\n",
    "---\n"
   ]
  },
  {
   "cell_type": "markdown",
   "id": "df177fb1",
   "metadata": {},
   "source": [
    "## 4) Review & Fixes\n",
    "- What tests did you run (normal & edge cases)?\n",
    "- What bugs did you find and how did you fix them?\n",
    "- Any complexity notes (time/space)?\n",
    "\n",
    "---\n"
   ]
  },
  {
   "cell_type": "markdown",
   "id": "234acbf3",
   "metadata": {},
   "source": [
    "## 5) Reflection\n",
    "- What was tricky here?\n",
    "- What did you learn or want to remember for next time?\n",
    "- If you had more time, how would you improve your solution?\n",
    "\n",
    "---\n"
   ]
  },
  {
   "cell_type": "markdown",
   "id": "e5c45402",
   "metadata": {},
   "source": [
    "## End of Notebook\n",
    "\n",
    "Double-check the **Student & Submission Info** table at the top before you push to GitHub.\n"
   ]
  }
 ],
 "metadata": {
  "kernelspec": {
   "display_name": "Python 3",
   "language": "python",
   "name": "python3"
  },
  "language_info": {
   "name": "python",
   "version": "3.x"
  }
 },
 "nbformat": 4,
 "nbformat_minor": 5
}
